{
 "cells": [
  {
   "cell_type": "raw",
   "metadata": {},
   "source": [
    "Challange, duplicate functionality of Epson 6-axis robot coordinate transformations, solutions and verifications follow"
   ]
  },
  {
   "cell_type": "raw",
   "metadata": {},
   "source": [
    "Function main\n",
    "\tsanity_check\n",
    "Fend\n",
    "\n",
    "Function sanity_check\n",
    "\tPrint \"TLX-TLU check\"\n",
    "\tP0 = XY(0, 0, 0, 0, 0, 0) +TLV(3) +Z(-3) +TLU(5) +TLX(5) +TLY(6) +TLZ(7) +TLW(8) +TLZ(-9)\n",
    "\tPrint CX(P0), \",\", CY(P0), \",\", CZ(P0), \",\", CU(P0), \",\", CV(P0), \",\", CW(P0)\n",
    "\t'coordinate shift checks\n",
    " \t'4.24282, 7.66074, -5.13739, 5.00683, 2.98857, 8.2617\n",
    " \t\n",
    "\tPrint \"local check\"\n",
    " \tP0 = XY(1, 2, 3, 1, 2, 3)\n",
    "\tLocal 1, P0\n",
    "\tP0 = XY(4, 5, 6, 5, 4, 3) /1 @0\n",
    "\tPrint CX(P0), \",\", CY(P0), \",\", CZ(P0), \",\", CU(P0), \",\", CV(P0), \",\", CW(P0)\n",
    "\t'local check\n",
    " \t'5.1335, 6.752, 9.11005, 6.21703, 5.72494, 6.17714\n",
    " \t\n",
    " \tPrint \"reverse check\"\n",
    " \tP0 = XY(3, 2, 1, 1, 2, 3)\n",
    " \tLocal 2, P0\n",
    " \tP0 = XY(4, 5, 6, 5, 4, 3) /0 @2\n",
    " \tPrint CX(P0), \",\", CY(P0), \",\", CZ(P0), \",\", CU(P0), \",\", CV(P0), \",\", CW(P0)\n",
    " \t'reverse check\n",
    "\t' 0.877066, 3.24145, 4.87071, 3.88251, 2.21092, -0.134514\n",
    "\t\n",
    "\tPrint \"local to local check\"\n",
    " \tP0 = XY(1, 2, 3, 1, 2, 3)\n",
    "\tLocal 1, P0\n",
    "\tP0 = XY(4, 5, 6, 5, 4, 3)\n",
    " \tLocal 2, P0\n",
    " \tP0 = XY(6, 3, 4, 6, 2, 5) /1 @2\n",
    " \tPrint CX(P0), \",\", CY(P0), \",\", CZ(P0), \",\", CU(P0), \",\", CV(P0), \",\", CW(P0)\n",
    " \t'local to local check\n",
    "\t' 2.99758, -0.314971, 1.16959, 2.11572, -0.214377, 5.05275\n",
    "Fend"
   ]
  },
  {
   "cell_type": "code",
   "execution_count": 1,
   "metadata": {},
   "outputs": [],
   "source": [
    "# keep dependandies to absolute minimum\n",
    "from math import sin\n",
    "from math import cos\n",
    "from math import degrees\n",
    "from math import radians\n",
    "from math import atan2"
   ]
  },
  {
   "cell_type": "code",
   "execution_count": 2,
   "metadata": {},
   "outputs": [],
   "source": [
    "def flatten(_list):\n",
    "    return [item for sublist in _list for item in sublist]"
   ]
  },
  {
   "cell_type": "code",
   "execution_count": 3,
   "metadata": {},
   "outputs": [],
   "source": [
    "def abssum(series):\n",
    "    s = 0.0\n",
    "    for val in series:\n",
    "        s = s + abs(val)\n",
    "    return s"
   ]
  },
  {
   "cell_type": "code",
   "execution_count": 4,
   "metadata": {},
   "outputs": [],
   "source": [
    "class vector2:\n",
    "    def __init__(self, coords):\n",
    "        self.coords = coords\n",
    "    \n",
    "    def __repr__(self):\n",
    "        return f'{self.coords}'\n",
    "        \n",
    "    def _get_x(self):\n",
    "        return self.coords[0]\n",
    "    def _get_y(self):\n",
    "        return self.coords[1]    \n",
    "    X = property(fget = _get_x)\n",
    "    Y = property(fget = _get_y)\n",
    "    \n",
    "    def rot(self, degA):\n",
    "        phi = radians(degA)\n",
    "        xprim = self.X * cos(phi) - self.Y * sin(phi)\n",
    "        yprim = self.X * sin(phi) + self.Y * cos(phi)\n",
    "        return vector2([xprim, yprim])"
   ]
  },
  {
   "cell_type": "code",
   "execution_count": 5,
   "metadata": {},
   "outputs": [],
   "source": [
    "class vector3:\n",
    "    def __init__(self, coords):\n",
    "        self.coords = coords\n",
    "    \n",
    "    def __repr__(self):\n",
    "        return f'{self.coords}'\n",
    "    \n",
    "    def _get_x(self):\n",
    "        return self.coords[0]\n",
    "    def _get_y(self):\n",
    "        return self.coords[1]\n",
    "    def _get_z(self):\n",
    "        return self.coords[2]\n",
    "    \n",
    "    X = property(fget = _get_x)\n",
    "    Y = property(fget = _get_y)\n",
    "    Z = property(fget = _get_z)\n",
    "    \n",
    "    def dot(self, vector):\n",
    "        return self.X * vector.X + self.Y * vector.Y + self.Z * vector.Z\n",
    "    \n",
    "    def cross(self, vector):\n",
    "        return vector3([\n",
    "            self.Y * vector.Z - self.Z * vector.Y, \n",
    "            self.Z * vector.X - self.X * vector.Z, \n",
    "            self.X * vector.Y - self.Y * vector.X, \n",
    "        ])\n",
    "    \n",
    "    def scalar(self, value):\n",
    "        return vector3([self.X * value, self.Y * value, self.Z * value])\n",
    "    \n",
    "    def inv(self):\n",
    "        return vector3([-self.X, -self.Y, -self.Z])\n",
    "    def add(self, b):\n",
    "        return vector3([self.X + b.X, self.Y + b.Y, self.Z + b.Z])\n",
    "    def sub(self, b):\n",
    "        return self.add(b.inv())\n",
    "    \n",
    "    def rot_U(self, degA):\n",
    "        prim = vector2([self.X, self.Y]).rot(degA)\n",
    "        return vector3([prim.X, prim.Y, self.Z])\n",
    "    def rot_V(self, degA):\n",
    "        prim = vector2([self.Z, self.X]).rot(degA)\n",
    "        return vector3([prim.Y, self.Y, prim.X])\n",
    "    def rot_W(self, degA):\n",
    "        prim = vector2([self.Y, self.Z]).rot(degA)\n",
    "        return vector3([self.X, prim.X, prim.Y])\n",
    "    def unitX():\n",
    "        return vector3([1,0,0])\n",
    "    def unitY():\n",
    "        return vector3([0,1,0])\n",
    "    def unitZ():\n",
    "        return vector3([0,0,1])\n",
    "    def unitVectors():\n",
    "        return [vector3.unitX(), vector3.unitY(), vector3.unitZ()]\n",
    "    def RotationAroundAxis(self, axisU, theta):\n",
    "        crossux = axisU.cross(self)\n",
    "        dotux = axisU.dot(self)\n",
    "        sincomp = crossux.scalar(sin(radians(theta)))\n",
    "        coscomp = crossux.scalar(cos(radians(theta))).cross(axisU)\n",
    "        return axisU.scalar(dotux).add(coscomp).add(sincomp)"
   ]
  },
  {
   "cell_type": "code",
   "execution_count": 6,
   "metadata": {},
   "outputs": [],
   "source": [
    "class position:\n",
    "    def __init__(self, coords):\n",
    "        self.coords = coords\n",
    "        \n",
    "    def _get_x(self):\n",
    "        return self.coords[0]\n",
    "    def _get_y(self):\n",
    "        return self.coords[1]\n",
    "    def _get_z(self):\n",
    "        return self.coords[2]\n",
    "    def _get_u(self):\n",
    "        return self.coords[3]\n",
    "    def _get_v(self):\n",
    "        return self.coords[4]\n",
    "    def _get_w(self):\n",
    "        return self.coords[5]\n",
    "    \n",
    "    def _get_pos3(self):\n",
    "        return vector3([self.X, self.Y, self.Z])\n",
    "    \n",
    "    pos3 = property(fget = _get_pos3)\n",
    "    X = property(fget = _get_x)\n",
    "    Y = property(fget = _get_y)\n",
    "    Z = property(fget = _get_z)\n",
    "    U = property(fget = _get_u)\n",
    "    V = property(fget = _get_v)\n",
    "    W = property(fget = _get_w)\n",
    "    \n",
    "    def add(self, values):\n",
    "        return position([a+b for a,b in zip(self.coords, values)])\n",
    "    def add_X(self, value):\n",
    "        return self.add([value, 0, 0, 0, 0, 0])\n",
    "    def add_Y(self, value):\n",
    "        return self.add([0, value, 0, 0, 0, 0])\n",
    "    def add_Z(self, value):\n",
    "        return self.add([0, 0, value, 0, 0, 0])\n",
    "    def add_U(self, value):\n",
    "        return self.add([0, 0, 0, value, 0, 0])\n",
    "    def add_V(self, value):\n",
    "        return self.add([0, 0, 0, 0, value, 0])\n",
    "    def add_W(self, value):\n",
    "        return self.add([0, 0, 0, 0, 0, value])\n",
    "    \n",
    "    def add_tlx(self, value):\n",
    "        axw, axv, axu = self._rotated_units()\n",
    "        newpos = self.pos3.add(axw.scalar(value))\n",
    "        return position([newpos.X, newpos.Y, newpos.Z, self.U, self.V, self.W])\n",
    "    def add_tly(self, value):\n",
    "        axw, axv, axu = self._rotated_units()\n",
    "        newpos = self.pos3.add(axv.scalar(value))\n",
    "        return position([newpos.X, newpos.Y, newpos.Z, self.U, self.V, self.W])\n",
    "    def add_tlz(self, value):\n",
    "        axw, axv, axu = self._rotated_units()\n",
    "        newpos = self.pos3.add(axu.scalar(value))\n",
    "        return position([newpos.X, newpos.Y, newpos.Z, self.U, self.V, self.W])\n",
    "    def add_tlu(self, value):\n",
    "        units = self._rotated_units()\n",
    "        axw, axv, axu = units\n",
    "        units = [u.RotationAroundAxis(axu, value) for u in units]\n",
    "        uval, vval, wval = position._UVW_from_units(units)\n",
    "        return position([self.X, self.Y, self.Z, uval, vval, wval])\n",
    "    def add_tlv(self, value):\n",
    "        units = self._rotated_units()\n",
    "        axw, axv, axu = units\n",
    "        units = [u.RotationAroundAxis(axv, value) for u in units]\n",
    "        uval, vval, wval = position._UVW_from_units(units)\n",
    "        return position([self.X, self.Y, self.Z, uval, vval, wval])\n",
    "    def add_tlw(self, value):\n",
    "        units = self._rotated_units()\n",
    "        axw, axv, axu = units\n",
    "        units = [u.RotationAroundAxis(axw, value) for u in units]\n",
    "        uval, vval, wval = position._UVW_from_units(units)\n",
    "        return position([self.X, self.Y, self.Z, uval, vval, wval])\n",
    "    \n",
    "    def abs_from_local(self, local):\n",
    "        axisW, axisV, axisU = vector3.unitVectors()\n",
    "        rot1 = self.pos3\n",
    "        rot1 = rot1.RotationAroundAxis(axisW, local.W)\n",
    "        rot1 = rot1.RotationAroundAxis(axisV, local.V)\n",
    "        rot1 = rot1.RotationAroundAxis(axisU, local.U)\n",
    "        rot1 = rot1.add(local.pos3)\n",
    "\n",
    "        units = self._rotated_units()\n",
    "        units = [u.RotationAroundAxis(axisW, local.W) for u in units]\n",
    "        units = [u.RotationAroundAxis(axisV, local.V) for u in units]\n",
    "        units = [u.RotationAroundAxis(axisU, local.U) for u in units]\n",
    "        uvw = position._UVW_from_units(units)\n",
    "        return position([rot1.X, rot1.Y, rot1.Z, uvw[0], uvw[1], uvw[2]])\n",
    "    \n",
    "    def abs_in_local(self, local):\n",
    "        axisW, axisV, axisU = vector3.unitVectors()\n",
    "        rot1 = self.pos3\n",
    "        rot1 = rot1.sub(local.pos3)\n",
    "        rot1 = rot1.RotationAroundAxis(axisU, -local.U)\n",
    "        rot1 = rot1.RotationAroundAxis(axisV, -local.V)\n",
    "        rot1 = rot1.RotationAroundAxis(axisW, -local.W)\n",
    "\n",
    "        units = self._rotated_units()\n",
    "        units = [u.RotationAroundAxis(axisU, -local.U) for u in units]\n",
    "        units = [u.RotationAroundAxis(axisV, -local.V) for u in units]\n",
    "        units = [u.RotationAroundAxis(axisW, -local.W) for u in units]\n",
    "        uvw = position._UVW_from_units(units)\n",
    "        return position([rot1.X, rot1.Y, rot1.Z, uvw[0], uvw[1], uvw[2]])\n",
    "    \n",
    "    def local_to_local(self, localfrom, localto):\n",
    "        res = self.abs_from_local(localfrom)\n",
    "        res = res.abs_in_local(localto)\n",
    "        return res\n",
    "    \n",
    "    def _UVW_from_units(units):\n",
    "        uval = degrees(atan2(units[0].Y, units[0].X))\n",
    "        units = [u.rot_U(-uval) for u in units]\n",
    "        vval = degrees(atan2(units[2].X, units[2].Z))\n",
    "        units = [u.rot_V(-vval) for u in units]\n",
    "        wval = degrees(atan2(units[1].Z, units[1].Y))\n",
    "        return [uval, vval, wval]\n",
    "    def _rotated_units(self):\n",
    "        units = vector3.unitVectors()\n",
    "        units = [u.rot_W(self.W) for u in units]\n",
    "        units = [u.rot_V(self.V) for u in units]\n",
    "        units = [u.rot_U(self.U) for u in units]\n",
    "        return units\n",
    "    \n",
    "    def __repr__(self):\n",
    "        return f'X:{self.X}\\tY:{self.Y}\\tZ:{self.Z}\\tU:{self.U}\\tV:{self.V}\\tW:{self.W}'"
   ]
  },
  {
   "cell_type": "raw",
   "metadata": {},
   "source": [
    "Print \"TLX-TLU check\"\n",
    "P0 = XY(0, 0, 0, 0, 0, 0) +TLV(3) +Z(-3) +TLU(5) +TLX(5) +TLY(6) +TLZ(7) +TLW(8) +TLZ(-9)\n",
    "Print CX(P0), \",\", CY(P0), \",\", CZ(P0), \",\", CU(P0), \",\", CV(P0), \",\", CW(P0)\n",
    "'coordinate shift checks\n",
    "'4.24282, 7.66074, -5.13739, 5.00683, 2.98857, 8.2617"
   ]
  },
  {
   "cell_type": "code",
   "execution_count": 15,
   "metadata": {},
   "outputs": [
    {
     "name": "stdout",
     "output_type": "stream",
     "text": [
      "[3.498844654004074e-06, -1.550070596323394e-06, -4.067942096064314e-06, -3.1248967315988807e-06, 3.710005985979592e-06, 4.612981653551174e-06]\n",
      "abssum(error1)=2.056474171752143e-05\n"
     ]
    }
   ],
   "source": [
    "# sanity check\n",
    "p = position([0,0,0,0,0,0])\n",
    "p = p.add_tlv(3)\n",
    "p = p.add_Z(-3)\n",
    "p = p.add_tlu(5)\n",
    "p = p.add_tlx(5)\n",
    "p = p.add_tly(6)\n",
    "p = p.add_tlz(7)\n",
    "p = p.add_tlw(8)\n",
    "p = p.add_tlz(-9)\n",
    "\n",
    "error1 = [a-b for a, b in zip(p.coords, [4.24282, 7.66074, -5.13739, 5.00683, 2.98857, 8.2617])]\n",
    "print(error1)\n",
    "print(f\"{abssum(error1)=}\")\n",
    "# e-5 is within Real resolution in Epson"
   ]
  },
  {
   "cell_type": "raw",
   "metadata": {},
   "source": [
    "Print \"local check\"\n",
    "P0 = XY(1, 2, 3, 1, 2, 3)\n",
    "Local 1, P0\n",
    "P0 = XY(4, 5, 6, 5, 4, 3) /1 @0\n",
    "Print CX(P0), \",\", CY(P0), \",\", CZ(P0), \",\", CU(P0), \",\", CV(P0), \",\", CW(P0)\n",
    "'local check\n",
    "'5.1335, 6.752, 9.11005, 6.21703, 5.72494, 6.17714"
   ]
  },
  {
   "cell_type": "code",
   "execution_count": 16,
   "metadata": {},
   "outputs": [
    {
     "data": {
      "text/plain": [
       "X:5.133501609698349\tY:6.751995238308427\tZ:9.110049565896762\tU:6.217030137488549\tV:5.724944256171328\tW:6.177141759241397"
      ]
     },
     "execution_count": 16,
     "metadata": {},
     "output_type": "execute_result"
    }
   ],
   "source": [
    "local = position([1,2,3,1,2,3])\n",
    "pos = position([4,5,6,5,4,3])\n",
    "res = pos.abs_from_local(local)\n",
    "res"
   ]
  },
  {
   "cell_type": "code",
   "execution_count": 17,
   "metadata": {},
   "outputs": [
    {
     "name": "stdout",
     "output_type": "stream",
     "text": [
      "[1.60969834883673e-06, -4.76169157259676e-06, -4.3410323691261965e-07, 1.3748854854611636e-07, 4.256171328265168e-06, 1.7592413970035636e-06]\n",
      "abssum(error2)=1.2958394432160958e-05\n"
     ]
    }
   ],
   "source": [
    "ref = [5.1335, 6.752, 9.11005, 6.21703, 5.72494, 6.17714]\n",
    "\n",
    "\n",
    "error2 = [a-b for a, b in zip(res.coords, ref)]\n",
    "print(error2)\n",
    "print(f\"{abssum(error2)=}\")\n",
    "# e-5 is within Real resolution in Epson"
   ]
  },
  {
   "cell_type": "raw",
   "metadata": {},
   "source": [
    "Print \"reverse check\"\n",
    "P0 = XY(3, 2, 1, 1, 2, 3)\n",
    "Local 2, P0\n",
    "P0 = XY(4, 5, 6, 5, 4, 3) /0 @2\n",
    "Print CX(P0), \",\", CY(P0), \",\", CZ(P0), \",\", CU(P0), \",\", CV(P0), \",\", CW(P0)\n",
    "'reverse check\n",
    "' 0.877066, 3.24145, 4.87071, 3.88251, 2.21092, -0.134514"
   ]
  },
  {
   "cell_type": "code",
   "execution_count": 18,
   "metadata": {},
   "outputs": [
    {
     "data": {
      "text/plain": [
       "X:0.8770664561514683\tY:3.241446051091901\tZ:4.870706512340343\tU:3.882505190398298\tV:2.2109187993805612\tW:-0.13451390416710154"
      ]
     },
     "execution_count": 18,
     "metadata": {},
     "output_type": "execute_result"
    }
   ],
   "source": [
    "local = position([3,2,1,1,2,3])\n",
    "pos = position([4,5,6,5,4,3])\n",
    "res = pos.abs_in_local(local)\n",
    "res"
   ]
  },
  {
   "cell_type": "code",
   "execution_count": 19,
   "metadata": {},
   "outputs": [
    {
     "name": "stdout",
     "output_type": "stream",
     "text": [
      "[4.5615146826438746e-07, -3.948908098738713e-06, -3.487659657075426e-06, -4.8096017017940085e-06, -1.2006194389790892e-06, 9.583289845016552e-08]\n",
      "abssum(error3)=1.399877326330179e-05\n"
     ]
    }
   ],
   "source": [
    "ref = [0.877066, 3.24145, 4.87071, 3.88251, 2.21092, -0.134514]\n",
    "error3 = [a-b for a, b in zip(res.coords, ref)]\n",
    "print(error3)\n",
    "print(f\"{abssum(error3)=}\")\n",
    "# e-5 is within Real resolution in Epson"
   ]
  },
  {
   "cell_type": "raw",
   "metadata": {},
   "source": [
    "Print \"local to local check\"\n",
    "P0 = XY(1, 2, 3, 1, 2, 3)\n",
    "Local 1, P0\n",
    "P0 = XY(4, 5, 6, 5, 4, 3)\n",
    "Local 2, P0\n",
    "P0 = XY(6, 3, 4, 6, 2, 5) /1 @2\n",
    "Print CX(P0), \",\", CY(P0), \",\", CZ(P0), \",\", CU(P0), \",\", CV(P0), \",\", CW(P0)\n",
    "'local to local check\n",
    "' 2.99758, -0.314971, 1.16959, 2.11572, -0.214377, 5.05275"
   ]
  },
  {
   "cell_type": "code",
   "execution_count": 20,
   "metadata": {},
   "outputs": [],
   "source": [
    "local1 = position([1, 2, 3, 1, 2, 3])\n",
    "local2 = position([4, 5, 6, 5, 4, 3])\n",
    "pos = position([6, 3, 4, 6, 2, 5])"
   ]
  },
  {
   "cell_type": "code",
   "execution_count": 21,
   "metadata": {},
   "outputs": [
    {
     "data": {
      "text/plain": [
       "X:2.997576604009769\tY:-0.31497050782513575\tZ:1.1695925817439499\tU:2.115721314615743\tV:-0.2143769337054294\tW:5.052751908757081"
      ]
     },
     "execution_count": 21,
     "metadata": {},
     "output_type": "execute_result"
    }
   ],
   "source": [
    "res = pos.local_to_local(local1, local2)\n",
    "res"
   ]
  },
  {
   "cell_type": "code",
   "execution_count": 22,
   "metadata": {},
   "outputs": [
    {
     "name": "stdout",
     "output_type": "stream",
     "text": [
      "[-3.395990231247481e-06, 4.921748642527923e-07, 2.5817439499586925e-06, 1.3146157429311245e-06, 6.629457061091415e-08, 1.9087570812814647e-06]\n",
      "abssum(error4)=9.75957644028247e-06\n"
     ]
    }
   ],
   "source": [
    "ref = [2.99758, -0.314971, 1.16959, 2.11572, -0.214377, 5.05275]\n",
    "\n",
    "error4 = [a-b for a, b in zip(res.coords, ref)]\n",
    "print(error4)\n",
    "print(f\"{abssum(error4)=}\")\n",
    "# e-5 is within Real resolution in Epson"
   ]
  },
  {
   "cell_type": "code",
   "execution_count": 25,
   "metadata": {},
   "outputs": [
    {
     "name": "stdout",
     "output_type": "stream",
     "text": [
      "Epson has limited resolution, so errors much larger than double presicion of Python is expected\n",
      "coordinate shift checks abssum(error1)=2.056474171752143e-05\n",
      "local check abssum(error2)=1.2958394432160958e-05\n",
      "reverse check abssum(error3)=1.399877326330179e-05\n",
      "local to local check abssum(error4)=9.75957644028247e-06\n"
     ]
    }
   ],
   "source": [
    "#reiterate final results\n",
    "print(f\"Epson has limited resolution, so errors much larger than double presicion of Python is expected\")\n",
    "print(f\"coordinate shift checks {abssum(error1)=}\")\n",
    "print(f\"local check {abssum(error2)=}\")\n",
    "print(f\"reverse check {abssum(error3)=}\")\n",
    "print(f\"local to local check {abssum(error4)=}\")"
   ]
  },
  {
   "cell_type": "code",
   "execution_count": null,
   "metadata": {},
   "outputs": [],
   "source": []
  }
 ],
 "metadata": {
  "kernelspec": {
   "display_name": "Python 3",
   "language": "python",
   "name": "python3"
  },
  "language_info": {
   "codemirror_mode": {
    "name": "ipython",
    "version": 3
   },
   "file_extension": ".py",
   "mimetype": "text/x-python",
   "name": "python",
   "nbconvert_exporter": "python",
   "pygments_lexer": "ipython3",
   "version": "3.8.2"
  }
 },
 "nbformat": 4,
 "nbformat_minor": 4
}
